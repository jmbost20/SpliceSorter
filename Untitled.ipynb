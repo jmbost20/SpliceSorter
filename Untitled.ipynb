{
 "cells": [
  {
   "cell_type": "code",
   "execution_count": 1,
   "id": "317ceca0",
   "metadata": {},
   "outputs": [],
   "source": [
    "import shutil\n",
    "import os\n",
    "\n",
    "def copy_files(source_folder, destination_folder):\n",
    "    for file_name in os.listdir(source_folder):\n",
    "        source = os.path.join(source_folder, file_name)\n",
    "        destination = os.path.join(destination_folder, file_name)\n",
    "        if os.path.isdir(source):\n",
    "            if not os.path.exists(destination):\n",
    "                os.makedirs(destination)\n",
    "            copy_files(source, destination)\n",
    "        else:\n",
    "            shutil.copy(source, destination)\n",
    "#             os.remove(source) ###this may be deleting files\n",
    "\n",
    "source_folder = \"/Users/jonahbostrom/Documents/Test_repo\"\n",
    "# destination_folder = input(\"Enter the name of the new repository: \")\n",
    "destination_folder= \"/Users/jonahbostrom/Documents\"\n",
    "\n",
    "if not os.path.exists(destination_folder):\n",
    "    os.makedirs(destination_folder)\n",
    "copy_files(source_folder, destination_folder)"
   ]
  },
  {
   "cell_type": "markdown",
   "id": "08887df6",
   "metadata": {},
   "source": [
    "# Tests\n",
    "\n",
    "* Check that all the files are copied"
   ]
  },
  {
   "cell_type": "code",
   "execution_count": 2,
   "id": "51529af8",
   "metadata": {},
   "outputs": [],
   "source": [
    "# import shutil\n",
    "# import os\n",
    "\n",
    "# source_folder = \"/Users/jonahbostrom/Documents/Test_repo\"\n",
    "# destination_folder = \"/Users/jonahbostrom/Documents\"\n",
    "\n",
    "# for file_name in os.listdir(source_folder):\n",
    "#     source = os.path.join(source_folder, file_name)\n",
    "#     destination = os.path.join(destination_folder, file_name)\n",
    "#     shutil.copy(source, destination)\n",
    "#     ### could remove the source file here, but be careful!!!"
   ]
  }
 ],
 "metadata": {
  "kernelspec": {
   "display_name": "Python 3 (ipykernel)",
   "language": "python",
   "name": "python3"
  },
  "language_info": {
   "codemirror_mode": {
    "name": "ipython",
    "version": 3
   },
   "file_extension": ".py",
   "mimetype": "text/x-python",
   "name": "python",
   "nbconvert_exporter": "python",
   "pygments_lexer": "ipython3",
   "version": "3.9.12"
  }
 },
 "nbformat": 4,
 "nbformat_minor": 5
}
